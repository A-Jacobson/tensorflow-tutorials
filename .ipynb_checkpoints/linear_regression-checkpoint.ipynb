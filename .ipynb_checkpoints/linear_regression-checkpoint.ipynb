{
 "cells": [
  {
   "cell_type": "markdown",
   "metadata": {},
   "source": [
    "## Linear Regression"
   ]
  },
  {
   "cell_type": "code",
   "execution_count": 82,
   "metadata": {
    "collapsed": false
   },
   "outputs": [],
   "source": [
    "import tensorflow as tf\n",
    "import numpy as np\n",
    "import matplotlib.pyplot as plt\n",
    "%matplotlib inline\n",
    "plt.style.use('ggplot')"
   ]
  },
  {
   "cell_type": "markdown",
   "metadata": {},
   "source": [
    "#### Create 100 phony x, y data points in NumPy in the form y = Wx+b. \n",
    "#### concretely: y = 0.1x + 0.3"
   ]
  },
  {
   "cell_type": "code",
   "execution_count": 98,
   "metadata": {
    "collapsed": true
   },
   "outputs": [],
   "source": [
    "x_data = np.random.rand(100).astype(np.float32)\n",
    "y_data = 0.1 * x_data + 0.3"
   ]
  },
  {
   "cell_type": "code",
   "execution_count": 84,
   "metadata": {
    "collapsed": false
   },
   "outputs": [
    {
     "name": "stdout",
     "output_type": "stream",
     "text": [
      "(100,) (100,)\n"
     ]
    }
   ],
   "source": [
    "print x_data.shape, y_data.shape"
   ]
  },
  {
   "cell_type": "code",
   "execution_count": 85,
   "metadata": {
    "collapsed": false
   },
   "outputs": [
    {
     "data": {
      "image/png": "[encoded data removed]",
      "text/plain": [
       "<matplotlib.figure.Figure at 0x7ff0e048fcd0>"
      ]
     },
     "metadata": {},
     "output_type": "display_data"
    }
   ],
   "source": [
    "plt.scatter(x_data, y_data)\n",
    "plt.xlabel('x')\n",
    "plt.ylabel('y')\n",
    "plt.ylim([0,1])\n",
    "plt.xlim([0,1])\n",
    "plt.title('y = 0.1x + b');"
   ]
  },
  {
   "cell_type": "markdown",
   "metadata": {},
   "source": [
    "#### Try to find values for W and b that compute y_data = W * x + b\n",
    "Given X_data, try to find a value to multiply by (W) and a value to add to x_data to get b"
   ]
  },
  {
   "cell_type": "code",
   "execution_count": 130,
   "metadata": {
    "collapsed": false
   },
   "outputs": [],
   "source": [
    "W = tf.Variable(tf.random_uniform([1], -1.0, 1.0))\n",
    "b = tf.Variable(tf.zeros([1]))\n",
    "y = W * x_data + b # (1 x n) * (n * 1) + 1 = 1 <<--- dimensions"
   ]
  },
  {
   "cell_type": "code",
   "execution_count": 131,
   "metadata": {
    "collapsed": true
   },
   "outputs": [],
   "source": [
    "loss = tf.reduce_mean(tf.square(y - y_data))\n",
    "optimizer = tf.train.GradientDescentOptimizer(0.5)\n",
    "train = optimizer.minimize(loss)"
   ]
  },
  {
   "cell_type": "markdown",
   "metadata": {},
   "source": [
    "#### before starting, init the viariables. We will 'run' this first."
   ]
  },
  {
   "cell_type": "code",
   "execution_count": 132,
   "metadata": {
    "collapsed": true
   },
   "outputs": [],
   "source": [
    "init = tf.initialize_all_variables()"
   ]
  },
  {
   "cell_type": "code",
   "execution_count": 133,
   "metadata": {
    "collapsed": false
   },
   "outputs": [
    {
     "data": {
      "text/plain": [
       "dtype('float32')"
      ]
     },
     "execution_count": 133,
     "metadata": {},
     "output_type": "execute_result"
    }
   ],
   "source": [
    "x_data.dtype"
   ]
  },
  {
   "cell_type": "markdown",
   "metadata": {},
   "source": [
    "#### Fit the line."
   ]
  },
  {
   "cell_type": "code",
   "execution_count": 134,
   "metadata": {
    "collapsed": false
   },
   "outputs": [
    {
     "name": "stdout",
     "output_type": "stream",
     "text": [
      "step: 0, W: -0.230524, b: 0.752388, loss: 0.080001\n",
      "step: 20, W: -0.039117, b: 0.382236, loss: 0.001470\n",
      "step: 40, W: 0.056323, b: 0.325819, loss: 0.000145\n",
      "step: 60, W: 0.086287, b: 0.308106, loss: 0.000014\n",
      "step: 80, W: 0.095695, b: 0.302545, loss: 0.000001\n",
      "step: 100, W: 0.098648, b: 0.300799, loss: 0.000000\n",
      "step: 120, W: 0.099576, b: 0.300251, loss: 0.000000\n",
      "step: 140, W: 0.099867, b: 0.300079, loss: 0.000000\n",
      "step: 160, W: 0.099958, b: 0.300025, loss: 0.000000\n",
      "step: 180, W: 0.099987, b: 0.300008, loss: 0.000000\n",
      "step: 200, W: 0.099996, b: 0.300002, loss: 0.000000\n",
      "step: 220, W: 0.099999, b: 0.300001, loss: 0.000000\n",
      "step: 240, W: 0.100000, b: 0.300000, loss: 0.000000\n",
      "step: 260, W: 0.100000, b: 0.300000, loss: 0.000000\n",
      "step: 280, W: 0.100000, b: 0.300000, loss: 0.000000\n",
      "step: 300, W: 0.100000, b: 0.300000, loss: 0.000000\n",
      "step: 320, W: 0.100000, b: 0.300000, loss: 0.000000\n",
      "step: 340, W: 0.100000, b: 0.300000, loss: 0.000000\n",
      "step: 360, W: 0.100000, b: 0.300000, loss: 0.000000\n",
      "step: 380, W: 0.100000, b: 0.300000, loss: 0.000000\n"
     ]
    }
   ],
   "source": [
    "with tf.Session() as sess:\n",
    "    sess.run(init) # initialize variables\n",
    "    for step in range(400): # run graph 200 times\n",
    "        sess.run([train])\n",
    "        if step % 20 == 0:\n",
    "            print \"step: %d, W: %f, b: %f, loss: %f\" % (step, sess.run(W), sess.run(b), sess.run(loss))\n",
    "            y_pred = sess.run(y)"
   ]
  },
  {
   "cell_type": "code",
   "execution_count": 135,
   "metadata": {
    "collapsed": false
   },
   "outputs": [
    {
     "data": {
      "image/png": "[encoded data removed]",
      "text/plain": [
       "<matplotlib.figure.Figure at 0x7ff09be35090>"
      ]
     },
     "metadata": {},
     "output_type": "display_data"
    }
   ],
   "source": [
    "plt.scatter(x_data, y_data)\n",
    "plt.plot(x_data, y_pred)\n",
    "plt.xlabel('x')\n",
    "plt.ylabel('y')\n",
    "plt.ylim([0,1])\n",
    "plt.xlim([0,1])\n",
    "plt.title('y = 0.1x + b');"
   ]
  },
  {
   "cell_type": "code",
   "execution_count": null,
   "metadata": {
    "collapsed": true
   },
   "outputs": [],
   "source": []
  }
 ],
 "metadata": {
  "anaconda-cloud": {},
  "kernelspec": {
   "display_name": "Python [default]",
   "language": "python",
   "name": "python2"
  },
  "language_info": {
   "codemirror_mode": {
    "name": "ipython",
    "version": 2
   },
   "file_extension": ".py",
   "mimetype": "text/x-python",
   "name": "python",
   "nbconvert_exporter": "python",
   "pygments_lexer": "ipython2",
   "version": "2.7.12"
  }
 },
 "nbformat": 4,
 "nbformat_minor": 1
}
